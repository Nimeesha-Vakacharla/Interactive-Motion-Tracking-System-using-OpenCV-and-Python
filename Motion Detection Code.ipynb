{
 "cells": [
  {
   "cell_type": "code",
   "execution_count": 15,
   "metadata": {},
   "outputs": [
    {
     "name": "stdout",
     "output_type": "stream",
     "text": [
      "Requirement already satisfied: OpenCV-python in c:\\users\\nimee\\anaconda3\\lib\\site-packages (4.9.0.80)\n",
      "Requirement already satisfied: numpy>=1.21.2 in c:\\users\\nimee\\anaconda3\\lib\\site-packages (from OpenCV-python) (1.24.3)\n",
      "Note: you may need to restart the kernel to use updated packages.\n"
     ]
    }
   ],
   "source": [
    "pip install OpenCV-python"
   ]
  },
  {
   "cell_type": "code",
   "execution_count": 16,
   "metadata": {},
   "outputs": [],
   "source": [
    "# import the opencv module\n",
    "import cv2\n",
    "# capturing video\n",
    "capture = cv2.VideoCapture(\"C:/Users/nimee/Downloads/Video.mp4\")\n",
    "\n",
    "while capture.isOpened():\n",
    "    # to read frame by frame\n",
    "    ret, img_1 = capture.read()\n",
    "    if not ret:\n",
    "        break\n",
    "    \n",
    "    ret, img_2 = capture.read()\n",
    "    if not ret:\n",
    "        break\n",
    "\n",
    "    # Check if img_1 and img_2 have the same shape\n",
    "    if img_1.shape != img_2.shape:\n",
    "        continue\n",
    "    # find difference between two frames\n",
    "    diff = cv2.absdiff(img_1, img_2)\n",
    "\n",
    "    # to convert the frame to grayscale\n",
    "    diff_gray = cv2.cvtColor(diff, cv2.COLOR_BGR2GRAY)\n",
    "\n",
    "    # apply some blur to smoothen the frame\n",
    "    diff_blur = cv2.GaussianBlur(diff_gray, (5, 5), 0)\n",
    "\n",
    "    # to get the binary image\n",
    "    _, thresh_bin = cv2.threshold(diff_blur, 20, 255, cv2.THRESH_BINARY)\n",
    "\n",
    "    # to find contours\n",
    "    contours, hierarchy = cv2.findContours(thresh_bin, cv2.RETR_TREE, cv2.CHAIN_APPROX_SIMPLE)\n",
    "\n",
    "    # to draw the bounding box when the motion is detected\n",
    "    for contour in contours:\n",
    "        x, y, w, h = cv2.boundingRect(contour)\n",
    "        if cv2.contourArea(contour) > 300:\n",
    "            cv2.rectangle(img_1, (x, y), (x+w, y+h), (0, 255, 0), 2)\n",
    "    # cv2.drawContours(img_1, contours, -1, (0, 255, 0), 2)\n",
    "\n",
    "    # display the output\n",
    "    cv2.imshow(\"Detecting Motion...\", img_1)\n",
    "    if cv2.waitKey(100)& 0xFF == ord('q'):\n",
    "         break\n",
    "\n",
    "capture.release()\n",
    "cv2.destroyAllWindows()\n"
   ]
  },
  {
   "cell_type": "code",
   "execution_count": null,
   "metadata": {},
   "outputs": [],
   "source": []
  }
 ],
 "metadata": {
  "kernelspec": {
   "display_name": "base",
   "language": "python",
   "name": "python3"
  },
  "language_info": {
   "codemirror_mode": {
    "name": "ipython",
    "version": 3
   },
   "file_extension": ".py",
   "mimetype": "text/x-python",
   "name": "python",
   "nbconvert_exporter": "python",
   "pygments_lexer": "ipython3",
   "version": "3.11.4"
  }
 },
 "nbformat": 4,
 "nbformat_minor": 2
}
